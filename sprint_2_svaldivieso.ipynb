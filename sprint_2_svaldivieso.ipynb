{
 "cells": [
  {
   "cell_type": "code",
   "execution_count": 1,
   "id": "3001ff86",
   "metadata": {},
   "outputs": [
    {
     "name": "stdout",
     "output_type": "stream",
     "text": [
      "45\n"
     ]
    }
   ],
   "source": [
    "import csv\n",
    "\n",
    "with open('taxis.csv') as csvfile:\n",
    "    csv_reader = csv.reader(csvfile, delimiter=',')\n",
    "    count = 0\n",
    "    count_trips = 0\n",
    "    taxi_id = []\n",
    "    for row in csv_reader:\n",
    "        if count == 0:\n",
    "            count = count + 1\n",
    "            continue\n",
    "        if float(row[14]) > 20 and float(row[14]) < 44 and row[15] == \"Credit Card\":\n",
    "            if row[1] not in taxi_id:\n",
    "                count_trips = count_trips + 1\n",
    "                taxi_id.append(row[1])\n",
    "    print(count_trips)"
   ]
  },
  {
   "cell_type": "code",
   "execution_count": 3,
   "id": "7060029c",
   "metadata": {},
   "outputs": [
    {
     "name": "stdout",
     "output_type": "stream",
     "text": [
      "648\n"
     ]
    }
   ],
   "source": [
    "import csv\n",
    "\n",
    "with open('taxis.csv') as csvfile:\n",
    "    csv_reader = csv.reader(csvfile, delimiter=',')\n",
    "    count = 0\n",
    "    count_trips = 0\n",
    "    taxi_id = []\n",
    "    for row in csv_reader:\n",
    "        if count == 0:\n",
    "            count = count + 1\n",
    "            continue\n",
    "        if float(row[13]) < 10 or float(row[13]) > 60 and row[15] == \"Cash\":\n",
    "            if row[1] not in taxi_id:\n",
    "                count_trips = count_trips + 1\n",
    "                taxi_id.append(row[1])\n",
    "    print(count_trips)"
   ]
  }
 ],
 "metadata": {
  "kernelspec": {
   "display_name": "Python 3 (ipykernel)",
   "language": "python",
   "name": "python3"
  },
  "language_info": {
   "codemirror_mode": {
    "name": "ipython",
    "version": 3
   },
   "file_extension": ".py",
   "mimetype": "text/x-python",
   "name": "python",
   "nbconvert_exporter": "python",
   "pygments_lexer": "ipython3",
   "version": "3.9.12"
  }
 },
 "nbformat": 4,
 "nbformat_minor": 5
}
